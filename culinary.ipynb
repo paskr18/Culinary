{
  "nbformat": 4,
  "nbformat_minor": 0,
  "metadata": {
    "colab": {
      "provenance": []
    },
    "kernelspec": {
      "name": "python3",
      "display_name": "Python 3"
    },
    "language_info": {
      "name": "python"
    }
  },
  "cells": [
    {
      "cell_type": "markdown",
      "source": [
        "Installation of the needed packages and import of the libraries."
      ],
      "metadata": {
        "id": "w1huJmS6fT9y"
      }
    },
    {
      "cell_type": "code",
      "execution_count": null,
      "metadata": {
        "id": "mlnafKjIfHKi",
        "colab": {
          "base_uri": "https://localhost:8080/"
        },
        "outputId": "d6ddc851-7d52-4b09-c774-efb93e515a6d"
      },
      "outputs": [
        {
          "output_type": "stream",
          "name": "stdout",
          "text": [
            "Collecting pyngrok\n",
            "  Downloading pyngrok-7.2.3-py3-none-any.whl.metadata (8.7 kB)\n",
            "Requirement already satisfied: PyYAML>=5.1 in /usr/local/lib/python3.11/dist-packages (from pyngrok) (6.0.2)\n",
            "Downloading pyngrok-7.2.3-py3-none-any.whl (23 kB)\n",
            "Installing collected packages: pyngrok\n",
            "Successfully installed pyngrok-7.2.3\n",
            "Collecting streamlit\n",
            "  Downloading streamlit-1.44.0-py3-none-any.whl.metadata (8.9 kB)\n",
            "Requirement already satisfied: altair<6,>=4.0 in /usr/local/lib/python3.11/dist-packages (from streamlit) (5.5.0)\n",
            "Requirement already satisfied: blinker<2,>=1.0.0 in /usr/local/lib/python3.11/dist-packages (from streamlit) (1.9.0)\n",
            "Requirement already satisfied: cachetools<6,>=4.0 in /usr/local/lib/python3.11/dist-packages (from streamlit) (5.5.2)\n",
            "Requirement already satisfied: click<9,>=7.0 in /usr/local/lib/python3.11/dist-packages (from streamlit) (8.1.8)\n",
            "Requirement already satisfied: numpy<3,>=1.23 in /usr/local/lib/python3.11/dist-packages (from streamlit) (2.0.2)\n",
            "Requirement already satisfied: packaging<25,>=20 in /usr/local/lib/python3.11/dist-packages (from streamlit) (24.2)\n",
            "Requirement already satisfied: pandas<3,>=1.4.0 in /usr/local/lib/python3.11/dist-packages (from streamlit) (2.2.2)\n",
            "Requirement already satisfied: pillow<12,>=7.1.0 in /usr/local/lib/python3.11/dist-packages (from streamlit) (11.1.0)\n",
            "Requirement already satisfied: protobuf<6,>=3.20 in /usr/local/lib/python3.11/dist-packages (from streamlit) (5.29.4)\n",
            "Requirement already satisfied: pyarrow>=7.0 in /usr/local/lib/python3.11/dist-packages (from streamlit) (18.1.0)\n",
            "Requirement already satisfied: requests<3,>=2.27 in /usr/local/lib/python3.11/dist-packages (from streamlit) (2.32.3)\n",
            "Requirement already satisfied: tenacity<10,>=8.1.0 in /usr/local/lib/python3.11/dist-packages (from streamlit) (9.0.0)\n",
            "Requirement already satisfied: toml<2,>=0.10.1 in /usr/local/lib/python3.11/dist-packages (from streamlit) (0.10.2)\n",
            "Requirement already satisfied: typing-extensions<5,>=4.4.0 in /usr/local/lib/python3.11/dist-packages (from streamlit) (4.12.2)\n",
            "Collecting watchdog<7,>=2.1.5 (from streamlit)\n",
            "  Downloading watchdog-6.0.0-py3-none-manylinux2014_x86_64.whl.metadata (44 kB)\n",
            "\u001b[2K     \u001b[90m━━━━━━━━━━━━━━━━━━━━━━━━━━━━━━━━━━━━━━━━\u001b[0m \u001b[32m44.3/44.3 kB\u001b[0m \u001b[31m1.6 MB/s\u001b[0m eta \u001b[36m0:00:00\u001b[0m\n",
            "\u001b[?25hRequirement already satisfied: gitpython!=3.1.19,<4,>=3.0.7 in /usr/local/lib/python3.11/dist-packages (from streamlit) (3.1.44)\n",
            "Collecting pydeck<1,>=0.8.0b4 (from streamlit)\n",
            "  Downloading pydeck-0.9.1-py2.py3-none-any.whl.metadata (4.1 kB)\n",
            "Requirement already satisfied: tornado<7,>=6.0.3 in /usr/local/lib/python3.11/dist-packages (from streamlit) (6.4.2)\n",
            "Requirement already satisfied: jinja2 in /usr/local/lib/python3.11/dist-packages (from altair<6,>=4.0->streamlit) (3.1.6)\n",
            "Requirement already satisfied: jsonschema>=3.0 in /usr/local/lib/python3.11/dist-packages (from altair<6,>=4.0->streamlit) (4.23.0)\n",
            "Requirement already satisfied: narwhals>=1.14.2 in /usr/local/lib/python3.11/dist-packages (from altair<6,>=4.0->streamlit) (1.31.0)\n",
            "Requirement already satisfied: gitdb<5,>=4.0.1 in /usr/local/lib/python3.11/dist-packages (from gitpython!=3.1.19,<4,>=3.0.7->streamlit) (4.0.12)\n",
            "Requirement already satisfied: python-dateutil>=2.8.2 in /usr/local/lib/python3.11/dist-packages (from pandas<3,>=1.4.0->streamlit) (2.8.2)\n",
            "Requirement already satisfied: pytz>=2020.1 in /usr/local/lib/python3.11/dist-packages (from pandas<3,>=1.4.0->streamlit) (2025.1)\n",
            "Requirement already satisfied: tzdata>=2022.7 in /usr/local/lib/python3.11/dist-packages (from pandas<3,>=1.4.0->streamlit) (2025.1)\n",
            "Requirement already satisfied: charset-normalizer<4,>=2 in /usr/local/lib/python3.11/dist-packages (from requests<3,>=2.27->streamlit) (3.4.1)\n",
            "Requirement already satisfied: idna<4,>=2.5 in /usr/local/lib/python3.11/dist-packages (from requests<3,>=2.27->streamlit) (3.10)\n",
            "Requirement already satisfied: urllib3<3,>=1.21.1 in /usr/local/lib/python3.11/dist-packages (from requests<3,>=2.27->streamlit) (2.3.0)\n",
            "Requirement already satisfied: certifi>=2017.4.17 in /usr/local/lib/python3.11/dist-packages (from requests<3,>=2.27->streamlit) (2025.1.31)\n",
            "Requirement already satisfied: smmap<6,>=3.0.1 in /usr/local/lib/python3.11/dist-packages (from gitdb<5,>=4.0.1->gitpython!=3.1.19,<4,>=3.0.7->streamlit) (5.0.2)\n",
            "Requirement already satisfied: MarkupSafe>=2.0 in /usr/local/lib/python3.11/dist-packages (from jinja2->altair<6,>=4.0->streamlit) (3.0.2)\n",
            "Requirement already satisfied: attrs>=22.2.0 in /usr/local/lib/python3.11/dist-packages (from jsonschema>=3.0->altair<6,>=4.0->streamlit) (25.3.0)\n",
            "Requirement already satisfied: jsonschema-specifications>=2023.03.6 in /usr/local/lib/python3.11/dist-packages (from jsonschema>=3.0->altair<6,>=4.0->streamlit) (2024.10.1)\n",
            "Requirement already satisfied: referencing>=0.28.4 in /usr/local/lib/python3.11/dist-packages (from jsonschema>=3.0->altair<6,>=4.0->streamlit) (0.36.2)\n",
            "Requirement already satisfied: rpds-py>=0.7.1 in /usr/local/lib/python3.11/dist-packages (from jsonschema>=3.0->altair<6,>=4.0->streamlit) (0.23.1)\n",
            "Requirement already satisfied: six>=1.5 in /usr/local/lib/python3.11/dist-packages (from python-dateutil>=2.8.2->pandas<3,>=1.4.0->streamlit) (1.17.0)\n",
            "Downloading streamlit-1.44.0-py3-none-any.whl (9.8 MB)\n",
            "\u001b[2K   \u001b[90m━━━━━━━━━━━━━━━━━━━━━━━━━━━━━━━━━━━━━━━━\u001b[0m \u001b[32m9.8/9.8 MB\u001b[0m \u001b[31m64.9 MB/s\u001b[0m eta \u001b[36m0:00:00\u001b[0m\n",
            "\u001b[?25hDownloading pydeck-0.9.1-py2.py3-none-any.whl (6.9 MB)\n",
            "\u001b[2K   \u001b[90m━━━━━━━━━━━━━━━━━━━━━━━━━━━━━━━━━━━━━━━━\u001b[0m \u001b[32m6.9/6.9 MB\u001b[0m \u001b[31m79.4 MB/s\u001b[0m eta \u001b[36m0:00:00\u001b[0m\n",
            "\u001b[?25hDownloading watchdog-6.0.0-py3-none-manylinux2014_x86_64.whl (79 kB)\n",
            "\u001b[2K   \u001b[90m━━━━━━━━━━━━━━━━━━━━━━━━━━━━━━━━━━━━━━━━\u001b[0m \u001b[32m79.1/79.1 kB\u001b[0m \u001b[31m6.0 MB/s\u001b[0m eta \u001b[36m0:00:00\u001b[0m\n",
            "\u001b[?25hInstalling collected packages: watchdog, pydeck, streamlit\n",
            "Successfully installed pydeck-0.9.1 streamlit-1.44.0 watchdog-6.0.0\n"
          ]
        }
      ],
      "source": [
        "!pip install pyngrok\n",
        "!pip install streamlit\n",
        "\n",
        "import streamlit as st\n",
        "from pyngrok import ngrok\n",
        "import os\n",
        "import subprocess\n",
        "import time"
      ]
    },
    {
      "cell_type": "markdown",
      "source": [
        "Connecting through the ngrok tunnel"
      ],
      "metadata": {
        "id": "9ZHCkPwsfZZA"
      }
    },
    {
      "cell_type": "code",
      "source": [
        "ngrok_key = open(\"ngrok.txt\",\"r\").read()\n",
        "\n",
        "!ngrok config add-authtoken $ngrok_key\n",
        "\n",
        "def run_streamlit():\n",
        "  proc = subprocess.Popen([\"streamlit\", \"run\", \"Culinary_Compass_Tool.py\", \"--server.port=8501\"])\n",
        "  time.sleep(5)\n",
        "  return proc\n",
        "\n",
        "def start_ngrok():\n",
        "  ngrok.kill()\n",
        "  time.sleep(5)\n",
        "  url = ngrok.connect(8501, \"http\")\n",
        "  print(\"Streamlit URL:\", url)\n",
        "  return url"
      ],
      "metadata": {
        "id": "TfyY6JHAfc6H",
        "colab": {
          "base_uri": "https://localhost:8080/"
        },
        "outputId": "52b540cf-6b53-48f4-c8ac-963d737150b7"
      },
      "execution_count": null,
      "outputs": [
        {
          "output_type": "stream",
          "name": "stdout",
          "text": [
            "Authtoken saved to configuration file: /root/.config/ngrok/ngrok.yml\n"
          ]
        }
      ]
    },
    {
      "cell_type": "markdown",
      "source": [
        "Setting up the Streamlit app."
      ],
      "metadata": {
        "id": "Lgs3zvqNypuv"
      }
    },
    {
      "cell_type": "code",
      "source": [
        "open(\"Culinary_Compass_Tool.py\",\"w\").write(\"\"\"\n",
        "import streamlit as st\n",
        "import pandas as pd\n",
        "from recommendations import *\n",
        "\n",
        "st.set_page_config(layout = \"wide\")\n",
        "\n",
        "st.image('dishes.png')\n",
        "st.title(':blue[Culinary Compass Food Recommendation]')\n",
        "st.header(':blue[Select the cuisine and flavor of preference]', divider = True)\n",
        "\n",
        "st.header(\"First dataset\")\n",
        "menu_item_data = pd.read_excel('Dataset-1.xlsx')\n",
        "menu_item_data['menu_item'] = menu_item_data['menu_item'].fillna('')\n",
        "cuisine_list = menu_item_data['cuisine'].sort_values().unique()\n",
        "cuisine_dropdown = st.selectbox('Select your favorite cuisine', cuisine_list, index = 0)\n",
        "flavor_list = menu_item_data['dominant_flavor'].sort_values().unique()\n",
        "flavor_dropdown = st.selectbox('Select your favorite flavor', flavor_list, index = 0)\n",
        "choice = st.button('Show me recommendations')\n",
        "container = st.container()\n",
        "st.divider()\n",
        "\n",
        "st.header(\"Second dataset\")\n",
        "menu_items = pd.read_excel('Dataset-2R.xlsx')\n",
        "menu_items['menu_item'] = menu_items['menu_item'].fillna('')\n",
        "cuisines_list = menu_items['cuisine'].sort_values().unique()\n",
        "cuisines_dropdown = st.selectbox('Select your favorite cuisine', cuisines_list, index = 0)\n",
        "flavors_list = menu_items['dominant_flavor'].sort_values().unique()\n",
        "flavors_dropdown = st.selectbox('Select your favorite flavor', flavors_list, index = 0, key = 'Flavors')\n",
        "choice1 = st.button('Show me recommendations', key = 'Cuisines/Flavors')\n",
        "containers = st.container()\n",
        "st.divider()\n",
        "\n",
        "st.header(\"Third dataset\")\n",
        "celine_menu_items = pd.read_excel('Dataset-3C.xlsx')\n",
        "celine_menu_items['menu_item'] = celine_menu_items['menu_item'].fillna('')\n",
        "celine_list = celine_menu_items['cuisine'].sort_values().unique()\n",
        "celine_dropdown = st.selectbox('Select your favorite cuisine', celine_list, index = 0)\n",
        "celine_flavor_list = celine_menu_items['dominant_flavor'].sort_values().unique()\n",
        "celine_flavor_dropdown = st.selectbox('Select your favorite flavor', celine_flavor_list, index = 0, key = \"Celine / flavor\")\n",
        "choice2 = st.button('Show me recommendations', key = 'Celine')\n",
        "celine_container = st.container()\n",
        "st.divider()\n",
        "\n",
        "#code to keep the data in session\n",
        "if \"choice_pressed\" not in st.session_state:\n",
        "  st.session_state.choice_pressed = False\n",
        "if \"choice1_pressed\" not in st.session_state:\n",
        "  st.session_state.choice1_pressed = False\n",
        "if \"choice2_pressed\" not in st.session_state:\n",
        "  st.session_state.choice2_pressed = False\n",
        "\n",
        "\n",
        "if(choice):\n",
        "  main('Dataset-1.xlsx', cuisine_dropdown, flavor_dropdown, container)\n",
        "  st.session_state.choice_pressed = True\n",
        "  if st.session_state.choice1_pressed:\n",
        "    main('Dataset-2R.xlsx', cuisines_dropdown, flavors_dropdown, containers)\n",
        "  if st.session_state.choice2_pressed:\n",
        "    main('Dataset-3C.xlsx', celine_dropdown, celine_flavor_dropdown, celine_container)\n",
        "\n",
        "if(choice1):\n",
        "  main('Dataset-2R.xlsx', cuisines_dropdown, flavors_dropdown, containers)\n",
        "  st.session_state.choice1_pressed = True\n",
        "  if st.session_state.choice_pressed:\n",
        "    main('Dataset-1.xlsx', cuisine_dropdown, flavor_dropdown, container)\n",
        "  if st.session_state.choice2_pressed:\n",
        "    main('Dataset-3C.xlsx', celine_dropdown, celine_flavor_dropdown, celine_container)\n",
        "\n",
        "if(choice2):\n",
        "  main('Dataset-3C.xlsx', celine_dropdown, celine_flavor_dropdown, celine_container)\n",
        "  st.session_state.choice2_pressed = True\n",
        "  if st.session_state.choice_pressed:\n",
        "    main('Dataset-1.xlsx', cuisine_dropdown, flavor_dropdown, container)\n",
        "  if st.session_state.choice1_pressed:\n",
        "    main('Dataset-2R.xlsx', cuisines_dropdown, flavors_dropdown, containers)\n",
        "\"\"\")"
      ],
      "metadata": {
        "colab": {
          "base_uri": "https://localhost:8080/"
        },
        "id": "z-5InwpbysKb",
        "outputId": "d2502447-2093-46d5-dfc2-b7ac5e97bb03"
      },
      "execution_count": null,
      "outputs": [
        {
          "output_type": "execute_result",
          "data": {
            "text/plain": [
              "3417"
            ]
          },
          "metadata": {},
          "execution_count": 3
        }
      ]
    },
    {
      "cell_type": "markdown",
      "source": [
        "Launching the Streamlit App."
      ],
      "metadata": {
        "id": "q59SLpsizAn3"
      }
    },
    {
      "cell_type": "code",
      "source": [
        "streamlit_proc = run_streamlit()\n",
        "public_url = start_ngrok()"
      ],
      "metadata": {
        "id": "3yaD4eZNzCDT",
        "outputId": "57063ecf-d673-4c9a-e20d-7f929f1f6995",
        "colab": {
          "base_uri": "https://localhost:8080/"
        }
      },
      "execution_count": null,
      "outputs": [
        {
          "output_type": "stream",
          "name": "stdout",
          "text": [
            "Streamlit URL: NgrokTunnel: \"https://1c0d-34-75-93-126.ngrok-free.app\" -> \"http://localhost:8501\"\n"
          ]
        }
      ]
    }
  ]
}